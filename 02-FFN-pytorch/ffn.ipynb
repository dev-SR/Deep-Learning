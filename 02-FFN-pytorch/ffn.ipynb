{
  "cells": [
    {
      "cell_type": "markdown",
      "metadata": {
        "id": "view-in-github",
        "colab_type": "text"
      },
      "source": [
        "<a href=\"https://colab.research.google.com/github/dev-SR/Deep-Learning/blob/main/02-FFN-pytorch/ffn.ipynb\" target=\"_parent\"><img src=\"https://colab.research.google.com/assets/colab-badge.svg\" alt=\"Open In Colab\"/></a>"
      ]
    },
    {
      "cell_type": "markdown",
      "metadata": {
        "id": "MzwjHXF6YCJt"
      },
      "source": [
        "# Building Feed Forward Networks with `Pytorch`"
      ]
    },
    {
      "cell_type": "markdown",
      "metadata": {
        "id": "9BJKLxnzYCJ3"
      },
      "source": [
        "- Building Multi perceptron neural network from scratch to pytorch modular"
      ]
    },
    {
      "cell_type": "code",
      "execution_count": 18,
      "metadata": {
        "id": "GAkK-o7nYCJ5"
      },
      "outputs": [],
      "source": [
        "\"\"\"\n",
        "cd .\\02-FFN-pytorch-workflow\\\n",
        "jupyter nbconvert --to markdown ffn.ipynb --output README.md\n",
        "\"\"\"\n",
        "import torch\n",
        "import torch.nn.functional as Fn\n",
        "import math\n",
        "import numpy as np\n",
        "import matplotlib.pyplot as plt\n",
        "import matplotlib\n",
        "from sklearn.datasets import make_blobs\n",
        "from sklearn.model_selection import train_test_split\n",
        "import torch.nn as nn\n",
        "from torch import optim"
      ]
    },
    {
      "cell_type": "markdown",
      "source": [
        "## Linearity vs Non-Linearity"
      ],
      "metadata": {
        "id": "m_nvyE4xKYj9"
      }
    },
    {
      "cell_type": "markdown",
      "source": [
        "<p align=\"center\">\n",
        "<img src=\"https://raw.githubusercontent.com/dev-SR/Deep-Learning/main/02-FFN-pytorch/img/lvsnl.png\" alt=\"ShapeCalculation.png\" width=\"800px\">\n",
        "</p>"
      ],
      "metadata": {
        "id": "CvXNKH4cVPx0"
      }
    },
    {
      "cell_type": "markdown",
      "metadata": {
        "id": "kA5AQw_CYCJ9"
      },
      "source": [
        "## Generate Dataset"
      ]
    },
    {
      "cell_type": "code",
      "execution_count": 88,
      "metadata": {
        "colab": {
          "base_uri": "https://localhost:8080/"
        },
        "id": "5-EUkjxsYCJ-",
        "outputId": "91a935b2-a43a-4d8a-b28e-ab01943cf9bd"
      },
      "outputs": [
        {
          "output_type": "stream",
          "name": "stdout",
          "text": [
            "(1000, 2) (1000,)\n"
          ]
        }
      ],
      "source": [
        "NUM_FEATURES = 2\n",
        "NUM_CLASSES = 4\n",
        "RANDOM_SEED = 42\n",
        "data,labels = make_blobs(n_samples=1000,\n",
        "                         n_features=NUM_FEATURES,\n",
        "                         centers=NUM_CLASSES,\n",
        "                         random_state=RANDOM_SEED\n",
        "                         )\n",
        "print(data.shape,labels.shape)\n",
        "\n",
        "# Convert to tensors\n",
        "data = torch.from_numpy(data).type(torch.float)\n",
        "labels = torch.from_numpy(labels).type(torch.LongTensor)\n"
      ]
    },
    {
      "cell_type": "code",
      "execution_count": 49,
      "metadata": {
        "colab": {
          "base_uri": "https://localhost:8080/",
          "height": 282
        },
        "id": "cyizo4b3YCKB",
        "outputId": "d31d9402-787c-4d09-8e06-c41a7adf9db5"
      },
      "outputs": [
        {
          "output_type": "execute_result",
          "data": {
            "text/plain": [
              "<matplotlib.collections.PathCollection at 0x7f6150107ac0>"
            ]
          },
          "metadata": {},
          "execution_count": 49
        },
        {
          "output_type": "display_data",
          "data": {
            "text/plain": [
              "<Figure size 432x288 with 1 Axes>"
            ],
            "image/png": "[encoded data removed]"
          },
          "metadata": {
            "needs_background": "light"
          }
        }
      ],
      "source": [
        "# mymap = matplotlib.colors.LinearSegmentedColormap.from_list(\"\",['red','yellow','green','blue'])\n",
        "plt.scatter(data[:,0],data[:,1],c=labels,cmap=plt.cm.RdYlBu)#,cmap=mymap)"
      ]
    },
    {
      "cell_type": "code",
      "execution_count": 50,
      "metadata": {
        "colab": {
          "base_uri": "https://localhost:8080/"
        },
        "id": "VLOM8W63YCKC",
        "outputId": "ff18b334-6645-428d-b8dc-d74d27a93bc9"
      },
      "outputs": [
        {
          "output_type": "stream",
          "name": "stdout",
          "text": [
            "torch.Size([800, 2]) torch.Size([200, 2]) torch.Size([800]) torch.Size([200])\n"
          ]
        }
      ],
      "source": [
        "X_train,X_test,y_train,y_test = train_test_split(data,labels,test_size=-1.2,random_state=RANDOM_SEED)\n",
        "print(X_train.shape,X_test.shape,y_train.shape,y_test.shape)"
      ]
    },
    {
      "cell_type": "markdown",
      "metadata": {
        "id": "Oq4LRikyYCKD"
      },
      "source": [
        "## Using torch tensor and autograd"
      ]
    },
    {
      "cell_type": "markdown",
      "metadata": {
        "id": "OVjRztt4YCKG"
      },
      "source": [
        "<p align=\"center\">\n",
        "<img src=\"https://raw.githubusercontent.com/dev-SR/Deep-Learning/main/02-FFN-pytorch-workflow/img/ShapeCalculation.png\" alt=\"ShapeCalculation.png\" width=\"900px\">\n",
        "</p>"
      ]
    },
    {
      "cell_type": "code",
      "execution_count": 89,
      "metadata": {
        "colab": {
          "base_uri": "https://localhost:8080/"
        },
        "id": "BsSwHvmJYCKK",
        "outputId": "b9b799c8-e8fa-468c-a748-925d6100ba32"
      },
      "outputs": [
        {
          "output_type": "stream",
          "name": "stdout",
          "text": [
            "torch.Size([10, 2]) torch.Size([4, 10])\n"
          ]
        }
      ],
      "source": [
        "torch.manual_seed(0)\n",
        "W1 = torch.randn(10,2) / math.sqrt(2) # Shape-> (L_out,L_in)\n",
        "W1.requires_grad_()\n",
        "b1 = torch.zeros(10,requires_grad=True) \n",
        "\n",
        "W2 = torch.randn(4,10) / math.sqrt(2) # Shape-> (L_out,L_in)\n",
        "W2.requires_grad_()\n",
        "b2 = torch.zeros(4,requires_grad=True)\n",
        "\n",
        "print(W1.shape,W2.shape)"
      ]
    },
    {
      "cell_type": "code",
      "execution_count": 52,
      "metadata": {
        "id": "cr-Got82YCKL"
      },
      "outputs": [],
      "source": [
        "def model(X):\n",
        "    a1 = torch.matmul(X,W1.T) + b1 # (N,2) x (2,10)^T => (N,10)\n",
        "    # print(a1.shape)\n",
        "    h1 = a1.sigmoid() # (N,10)\n",
        "    # print(h1.shape)\n",
        "    a2 = torch.matmul(h1,W2.T) + b2 # (N,10) x (10,4)^T => (N,4)\n",
        "    # print(a2.shape)\n",
        "    h2 = a2.softmax(dim=1) # (N,4)\n",
        "    # print(h2.shape)\n",
        "    return h2\n"
      ]
    },
    {
      "cell_type": "code",
      "execution_count": 53,
      "metadata": {
        "id": "hxf0ufQmYCKM"
      },
      "outputs": [],
      "source": [
        "# Calculate accuracy (a classification metric)\n",
        "def accuracy_fn(y_hat, y):\n",
        "    pred = torch.argmax(y_hat,dim=1)\n",
        "    return (pred==y).float().mean()"
      ]
    },
    {
      "cell_type": "code",
      "execution_count": 54,
      "metadata": {
        "colab": {
          "base_uri": "https://localhost:8080/",
          "height": 300
        },
        "id": "fVcBiHXGYCKN",
        "outputId": "5f693f63-caa0-4da8-b336-a8edf7ea9cc3"
      },
      "outputs": [
        {
          "output_type": "stream",
          "name": "stdout",
          "text": [
            "Loss before training : 1.4541833400726318\n",
            "Loss after training : 0.7496986389160156\n"
          ]
        },
        {
          "output_type": "display_data",
          "data": {
            "text/plain": [
              "<Figure size 432x288 with 1 Axes>"
            ],
            "image/png": "[encoded data removed]"
          },
          "metadata": {
            "needs_background": "light"
          }
        }
      ],
      "source": [
        "learning_rate = 0.2\n",
        "epochs = 2000\n",
        "\n",
        "X_train = X_train.float()\n",
        "Y_train = y_train.long()\n",
        "\n",
        "loss_err = []\n",
        "acc_err = []\n",
        "\n",
        "for epoch in range(epochs):\n",
        "    y_hat = model(X_train)\n",
        "    loss = Fn.cross_entropy(y_hat,Y_train)\n",
        "    loss_err.append(loss.item())\n",
        "    acc_err.append(accuracy_fn(y_hat,y_train))\n",
        "    loss.backward()    \n",
        "    \n",
        "    with torch.no_grad():\n",
        "        W1 -= W1.grad * learning_rate\n",
        "        b1 -= b1.grad * learning_rate\n",
        "        W2 -= W2.grad * learning_rate\n",
        "        b2 -= b2.grad * learning_rate\n",
        "        \n",
        "        W1.grad.zero_()\n",
        "        b1.grad.zero_()\n",
        "        W2.grad.zero_()\n",
        "        b2.grad.zero_()\n",
        "        \n",
        "plt.plot(loss_err,'r-')\n",
        "plt.plot(acc_err,'b-')\n",
        "\n",
        "print(f\"Loss before training : {loss_err[0]}\")\n",
        "print(f\"Loss after training : {loss_err[-1]}\")"
      ]
    },
    {
      "cell_type": "markdown",
      "metadata": {
        "id": "8d5SdXflYCKO"
      },
      "source": [
        "## Using `NN.Parameter`\n"
      ]
    },
    {
      "cell_type": "code",
      "execution_count": 56,
      "metadata": {
        "id": "38kebaYuYCKO"
      },
      "outputs": [],
      "source": [
        "# def model(X):\n",
        "#     a1 = torch.matmul(X,W1.T) + b1 # (N,2) x (2,10)^T => (N,10)\n",
        "#     # print(a1.shape)\n",
        "#     h1 = a1.sigmoid() # (N,10)\n",
        "#     # print(h1.shape)\n",
        "#     a2 = torch.matmul(h1,W2.T) + b2 # (N,10) x (10,4)^T => (N,4)\n",
        "#     # print(a2.shape)\n",
        "#     h2 = a2.softmax(dim=1) # (N,4)\n",
        "#     # print(h2.shape)\n",
        "#     return h2\n",
        "# torch.manual_seed(0)\n",
        "# W1 = torch.randn(10,2) / math.sqrt(2) # Shape-> (L_out,L_in)\n",
        "# W1.requires_grad_()\n",
        "# b1 = torch.zeros(10,requires_grad=True) \n",
        "\n",
        "# W2 = torch.randn(4,10) / math.sqrt(2) # Shape-> (L_out,L_in)\n",
        "# W2.requires_grad_()\n",
        "# b2 = torch.zeros(4,requires_grad=True)\n",
        "\n",
        "# print(W1.shape,W2.shape)"
      ]
    },
    {
      "cell_type": "code",
      "execution_count": 68,
      "metadata": {
        "id": "rL1mU4vyYCKP"
      },
      "outputs": [],
      "source": [
        "class FirstNetwork(nn.Module):\n",
        "    def __init__(self):\n",
        "        super().__init__()\n",
        "        torch.manual_seed(0)\n",
        "        self.W1 = nn.Parameter(torch.randn(10,2, dtype=torch.float)/math.sqrt(2))\n",
        "        self.b1 = nn.Parameter(torch.zeros(10))\n",
        "        self.W2 = nn.Parameter(torch.randn(4,10, dtype=torch.float)/math.sqrt(2))\n",
        "        self.b2 = nn.Parameter(torch.zeros(4))\n",
        "        \n",
        "    def forward(self,X):\n",
        "        a1= torch.matmul(X,self.W1.T)+b1\n",
        "        h1 = a1.sigmoid()\n",
        "        \n",
        "        a2 = torch.matmul(h1,self.W2.T)+b2\n",
        "        h2 = a2.softmax(dim=1)\n",
        "        \n",
        "        return h2\n",
        "    \n",
        "model = FirstNetwork()"
      ]
    },
    {
      "cell_type": "code",
      "execution_count": 58,
      "metadata": {
        "colab": {
          "base_uri": "https://localhost:8080/",
          "height": 300
        },
        "id": "uBPyZzCOYCKQ",
        "outputId": "3c3e44ee-7d85-4e2b-b4f4-f94164638d42"
      },
      "outputs": [
        {
          "output_type": "stream",
          "name": "stdout",
          "text": [
            "Loss before training : 1.4198334217071533\n",
            "Loss after training : 0.7454500794410706\n"
          ]
        },
        {
          "output_type": "display_data",
          "data": {
            "text/plain": [
              "<Figure size 432x288 with 1 Axes>"
            ],
            "image/png": "[encoded data removed]"
          },
          "metadata": {
            "needs_background": "light"
          }
        }
      ],
      "source": [
        "def fit(epochs=2000,learning_rate=1):\n",
        "    loss_err = []\n",
        "    acc_err = [] \n",
        "    for epoch in range(epochs):\n",
        "        y_hat = model(X_train)\n",
        "        loss = Fn.cross_entropy(y_hat,y_train)\n",
        "        loss_err.append(loss.item())\n",
        "        acc_err.append(accuracy_fn(y_hat,y_train))\n",
        "        \n",
        "        loss.backward()\n",
        "        \n",
        "    \n",
        "        # with torch.no_grad():\n",
        "        #     W1 -= W1.grad * learning_rate\n",
        "        #     b1 -= b1.grad * learning_rate\n",
        "        #     W2 -= W2.grad * learning_rate\n",
        "        #     b2 -= b2.grad * learning_rate\n",
        "            \n",
        "        #     W1.grad.zero_()\n",
        "        #     b1.grad.zero_()\n",
        "        #     W2.grad.zero_()\n",
        "        #     b2.grad.zero_()  \n",
        "   \n",
        "        with torch.no_grad():\n",
        "            for param in model.parameters():\n",
        "                if param.grad is not None:\n",
        "                    param -= learning_rate * param.grad\n",
        "            model.zero_grad()\n",
        "    \n",
        "    plt.plot(loss_err,'r-')\n",
        "    plt.plot(acc_err,'b-')\n",
        "    print(f\"Loss before training : {loss_err[0]}\")\n",
        "    print(f\"Loss after training : {loss_err[-1]}\")\n",
        "\n",
        "fit()\n",
        "\n",
        "\t"
      ]
    },
    {
      "cell_type": "markdown",
      "metadata": {
        "id": "JHuF3BeXYCKQ"
      },
      "source": [
        "## Using `NN.Linear` and `Optim`"
      ]
    },
    {
      "cell_type": "code",
      "execution_count": 60,
      "metadata": {
        "id": "KMGv9X92YCKR"
      },
      "outputs": [],
      "source": [
        "class NNLinearNetwork_v1(nn.Module):\n",
        "    def __init__(self):\n",
        "        super().__init__()\n",
        "        torch.manual_seed(0)\n",
        "        # self.W1 = nn.Parameter(torch.randn(10,2, dtype=torch.float)/math.sqrt(2))\n",
        "        # self.b1 = nn.Parameter(torch.zeros(10))\n",
        "        # self.W2 = nn.Parameter(torch.randn(4,10, dtype=torch.float)/math.sqrt(2))\n",
        "        # self.b2 = nn.Parameter(torch.zeros(4))\n",
        "        \n",
        "        self.l1 = nn.Linear(in_features=2,out_features=10)\n",
        "        self.l2 = nn.Linear(10,4)\n",
        "        \n",
        "    def forward(self,X):\n",
        "        # a1= torch.matmul(X,self.W1.T)+b1\n",
        "        a1 = self.l1(X)\n",
        "        h1 = a1.sigmoid()\n",
        "        \n",
        "        # a2 = torch.matmul(h1,self.W2.T)+b2\n",
        "        a2 = self.l2(h1)\n",
        "        h2 = a2.softmax(dim=1)\n",
        "        \n",
        "        return h2\n",
        "    \n",
        "model = NNLinearNetwork_v1()"
      ]
    },
    {
      "cell_type": "code",
      "execution_count": 61,
      "metadata": {
        "colab": {
          "base_uri": "https://localhost:8080/",
          "height": 300
        },
        "id": "366F1FsZYCKS",
        "outputId": "fbe9421b-517a-44ed-85a5-057fbe743435"
      },
      "outputs": [
        {
          "output_type": "stream",
          "name": "stdout",
          "text": [
            "Loss before training : 1.4017045497894287\n",
            "Loss after training : 0.7455630302429199\n"
          ]
        },
        {
          "output_type": "display_data",
          "data": {
            "text/plain": [
              "<Figure size 432x288 with 1 Axes>"
            ],
            "image/png": "[encoded data removed]"
          },
          "metadata": {
            "needs_background": "light"
          }
        }
      ],
      "source": [
        "def fit(epochs=2000,learning_rate=1):\n",
        "    loss_err = []\n",
        "    acc_err = [] \n",
        "    opt = optim.SGD(model.parameters(),lr=learning_rate)\n",
        "    for epoch in range(epochs):\n",
        "        y_hat = model(X_train)\n",
        "        loss = Fn.cross_entropy(y_hat,y_train)\n",
        "        loss_err.append(loss.item())\n",
        "        acc_err.append(accuracy_fn(y_hat,y_train))\n",
        "        \n",
        "        loss.backward()\n",
        "        opt.step()\n",
        "        opt.zero_grad()\n",
        "   \n",
        "        # with torch.no_grad():\n",
        "        #     for param in model.parameters():\n",
        "        #         if param.grad is not None:\n",
        "        #             param -= learning_rate * param.grad\n",
        "        #     model.zero_grad()\n",
        "    \n",
        "    plt.plot(loss_err,'r-')\n",
        "    plt.plot(acc_err,'b-')\n",
        "    print(f\"Loss before training : {loss_err[0]}\")\n",
        "    print(f\"Loss after training : {loss_err[-1]}\")\n",
        "\n",
        "fit()\n",
        "\n",
        "\t"
      ]
    },
    {
      "cell_type": "markdown",
      "metadata": {
        "id": "y1EXRk7JYCKT"
      },
      "source": [
        "## Using `NN.Sequential`"
      ]
    },
    {
      "cell_type": "code",
      "execution_count": 30,
      "metadata": {
        "id": "QHlOIMeiYCKT"
      },
      "outputs": [],
      "source": [
        "class NNLinearNetwork_v2(nn.Module):\n",
        "    def __init__(self):\n",
        "        super().__init__()\n",
        "        torch.manual_seed(0)      \n",
        "        # self.l1 = nn.Linear(in_features=2,out_features=10)\n",
        "        # self.l2 = nn.Linear(10,4)\n",
        "        self.net = nn.Sequential(\n",
        "            nn.Linear(2,10),\n",
        "            nn.Sigmoid(),\n",
        "            nn.Linear(10,4),\n",
        "            nn.Softmax(dim=1)\n",
        "        )\n",
        "        \n",
        "    def forward(self,X):\n",
        "        # a1 = self.l1(X)\n",
        "        # h1 = a1.sigmoid()\n",
        "        # a2 = self.l2(h1)\n",
        "        # h2 = a2.softmax(dim=1)\n",
        "        # return h2 \n",
        "        return self.net(X)\n"
      ]
    },
    {
      "cell_type": "code",
      "execution_count": 31,
      "metadata": {
        "colab": {
          "base_uri": "https://localhost:8080/",
          "height": 300
        },
        "id": "ugKzygKEYCKU",
        "outputId": "83379bc5-0a8e-4e31-a232-3dc8d4893b3d"
      },
      "outputs": [
        {
          "output_type": "stream",
          "name": "stdout",
          "text": [
            "Loss before training : 1.4017045497894287\n",
            "Loss after training : 0.7455630302429199\n"
          ]
        },
        {
          "output_type": "display_data",
          "data": {
            "text/plain": [
              "<Figure size 432x288 with 1 Axes>"
            ],
            "image/png": "[encoded data removed]"
          },
          "metadata": {
            "needs_background": "light"
          }
        }
      ],
      "source": [
        "def fit(x,y,model,opt,loss_fn,epochs=2000,log=False):\n",
        "    loss_err = []\n",
        "    acc_err = [] \n",
        "    for epoch in range(epochs):\n",
        "        loss =loss_fn(model(x),y)\n",
        "        loss_err.append(loss.item())\n",
        "        acc_err.append(accuracy_fn(y_hat,y_train))\n",
        "        \n",
        "        loss.backward()\n",
        "        opt.step()\n",
        "        opt.zero_grad()\n",
        "\n",
        "    if log: \n",
        "        plt.plot(loss_err,'r-')\n",
        "        plt.plot(acc_err,'b-')\n",
        "        print(f\"Loss before training : {loss_err[0]}\")\n",
        "        print(f\"Loss after training : {loss_err[-1]}\")\n",
        "\n",
        "    \n",
        "\n",
        "model = NNLinearNetwork_v2()\n",
        "loss_fn = Fn.cross_entropy\n",
        "opt = optim.SGD(model.parameters(),lr=1)\n",
        "\n",
        "fit(x=X_train,y=y_train,model=model,opt=opt,loss_fn=loss_fn,log=True)\n",
        "\n",
        "\t"
      ]
    },
    {
      "cell_type": "markdown",
      "metadata": {
        "id": "StYGNAixYCKV"
      },
      "source": [
        "## Running in GPU"
      ]
    },
    {
      "cell_type": "code",
      "execution_count": 63,
      "metadata": {
        "id": "yL5Q-UzwYCKX"
      },
      "outputs": [],
      "source": [
        "class NNLinearNetwork_v3(nn.Module):\n",
        "    def __init__(self):\n",
        "        super().__init__()\n",
        "        torch.manual_seed(0)      \n",
        "        self.net = nn.Sequential(\n",
        "            nn.Linear(2,1024*4),\n",
        "            nn.Sigmoid(),\n",
        "            nn.Linear(1024*4,4),\n",
        "            nn.Softmax(dim=1)\n",
        "        )\n",
        "        \n",
        "    def forward(self,X):\n",
        "        return self.net(X)\n"
      ]
    },
    {
      "cell_type": "code",
      "source": [
        "def fit(x,y,model,opt,loss_fn,epochs=2000,log=False):\n",
        "    loss_err = []\n",
        "    acc_err = [] \n",
        "    for epoch in range(epochs):\n",
        "        loss =loss_fn(model(x),y)\n",
        "        loss_err.append(loss.item())\n",
        "        \n",
        "        loss.backward()\n",
        "        opt.step()\n",
        "        opt.zero_grad()\n",
        "\n",
        "    if log: \n",
        "        print(f\"Loss before training : {loss_err[0]}\")\n",
        "        print(f\"Loss after training : {loss_err[-1]}\")\t"
      ],
      "metadata": {
        "id": "0W2Lmz2xaYSJ"
      },
      "execution_count": 64,
      "outputs": []
    },
    {
      "cell_type": "code",
      "execution_count": 65,
      "metadata": {
        "colab": {
          "base_uri": "https://localhost:8080/"
        },
        "id": "-nq4gdT-YCKY",
        "outputId": "8c22eb28-6859-4a14-e9ce-5300f63b421e"
      },
      "outputs": [
        {
          "output_type": "stream",
          "name": "stdout",
          "text": [
            "cpu\n"
          ]
        },
        {
          "output_type": "execute_result",
          "data": {
            "text/plain": [
              "NNLinearNetwork_v3(\n",
              "  (net): Sequential(\n",
              "    (0): Linear(in_features=2, out_features=4096, bias=True)\n",
              "    (1): Sigmoid()\n",
              "    (2): Linear(in_features=4096, out_features=4, bias=True)\n",
              "    (3): Softmax(dim=1)\n",
              "  )\n",
              ")"
            ]
          },
          "metadata": {},
          "execution_count": 65
        }
      ],
      "source": [
        "device = torch.device(\"cpu\") #cuda #cpu\n",
        "print(device)\n",
        "\n",
        "X_train = X_train.to(device)\n",
        "y_train = y_train.to(device)\n",
        "model = NNLinearNetwork_v3().to(device)\n",
        "model.to(device)"
      ]
    },
    {
      "cell_type": "code",
      "execution_count": 66,
      "metadata": {
        "colab": {
          "base_uri": "https://localhost:8080/"
        },
        "id": "otMxTdTGYCKZ",
        "outputId": "845315f7-f0a9-4e27-8af4-a98c240f4106"
      },
      "outputs": [
        {
          "output_type": "stream",
          "name": "stdout",
          "text": [
            "CPU times: user 54.1 s, sys: 6.4 s, total: 1min\n",
            "Wall time: 1min\n"
          ]
        }
      ],
      "source": [
        "%%time\n",
        "loss_fn = Fn.cross_entropy\n",
        "opt = optim.SGD(model.parameters(),lr=1)\n",
        "fit(x=X_train,y=y_train,model=model,opt=opt,loss_fn=loss_fn)\n"
      ]
    },
    {
      "cell_type": "code",
      "source": [
        "%%time\n",
        "device = torch.device(\"cuda\" if torch.cuda.is_available() else \"cpu\")\n",
        "print(device)\n",
        "\n",
        "X_train = X_train.to(device)\n",
        "y_train = y_train.to(device)\n",
        "model = NNLinearNetwork_v3().to(device)\n",
        "\n",
        "fit(x=X_train,y=y_train,model=model,opt=opt,loss_fn=loss_fn)"
      ],
      "metadata": {
        "colab": {
          "base_uri": "https://localhost:8080/"
        },
        "id": "AbdOoS1yaDlZ",
        "outputId": "a7e45811-7ed8-4ff1-ff1b-41f7b694def2"
      },
      "execution_count": 67,
      "outputs": [
        {
          "output_type": "stream",
          "name": "stdout",
          "text": [
            "cuda\n",
            "CPU times: user 2.03 s, sys: 88.5 ms, total: 2.12 s\n",
            "Wall time: 2.11 s\n"
          ]
        }
      ]
    },
    {
      "cell_type": "markdown",
      "source": [],
      "metadata": {
        "id": "u9_RqBFBUy0_"
      }
    }
  ],
  "metadata": {
    "kernelspec": {
      "display_name": "base",
      "language": "python",
      "name": "python3"
    },
    "language_info": {
      "codemirror_mode": {
        "name": "ipython",
        "version": 3
      },
      "file_extension": ".py",
      "mimetype": "text/x-python",
      "name": "python",
      "nbconvert_exporter": "python",
      "pygments_lexer": "ipython3",
      "version": "3.9.12"
    },
    "orig_nbformat": 4,
    "vscode": {
      "interpreter": {
        "hash": "13a64c48d63ab7fa89dd239a6172cf842d756bd82fcb4ba948a9115b41dc50a1"
      }
    },
    "colab": {
      "provenance": [],
      "collapsed_sections": [
        "kA5AQw_CYCJ9",
        "Oq4LRikyYCKD",
        "8d5SdXflYCKO",
        "JHuF3BeXYCKQ",
        "y1EXRk7JYCKT",
        "StYGNAixYCKV"
      ],
      "toc_visible": true,
      "include_colab_link": true
    },
    "accelerator": "GPU",
    "gpuClass": "standard"
  },
  "nbformat": 4,
  "nbformat_minor": 0
}