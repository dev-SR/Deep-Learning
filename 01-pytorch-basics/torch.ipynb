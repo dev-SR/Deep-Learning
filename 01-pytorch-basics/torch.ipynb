{
  "cells": [
    {
      "cell_type": "markdown",
      "metadata": {
        "id": "view-in-github",
        "colab_type": "text"
      },
      "source": [
        "<a href=\"https://colab.research.google.com/github/dev-SR/Deep-Learning/blob/main/01-pytorch-basics/torch.ipynb\" target=\"_parent\"><img src=\"https://colab.research.google.com/assets/colab-badge.svg\" alt=\"Open In Colab\"/></a>"
      ]
    },
    {
      "cell_type": "markdown",
      "metadata": {
        "id": "Vwx4SQgmoHf5"
      },
      "source": [
        "# Pytorch"
      ]
    },
    {
      "cell_type": "code",
      "execution_count": 1,
      "metadata": {
        "id": "0SlpZXm2oHgE"
      },
      "outputs": [],
      "source": [
        "\"\"\"\n",
        "cd .\\101pytorch\\\n",
        "jupyter nbconvert --to markdown torch.ipynb --output README.md\n",
        "\"\"\"\n",
        "import torch\n",
        "import numpy as np\n",
        "import matplotlib.pyplot as plt"
      ]
    },
    {
      "cell_type": "markdown",
      "metadata": {
        "id": "SnmnrqupoHgG"
      },
      "source": [
        "## Initialize tensors"
      ]
    },
    {
      "cell_type": "code",
      "execution_count": 7,
      "metadata": {
        "colab": {
          "base_uri": "https://localhost:8080/"
        },
        "id": "a51QMEqsoHgH",
        "outputId": "e2858d89-5ef5-4d09-9256-244454332020"
      },
      "outputs": [
        {
          "output_type": "stream",
          "name": "stdout",
          "text": [
            "tensor([[1., 1.],\n",
            "        [1., 1.],\n",
            "        [1., 1.]])\n",
            "tensor([[0., 0.],\n",
            "        [0., 0.],\n",
            "        [0., 0.]])\n",
            "tensor([[0.9650, 0.5336],\n",
            "        [0.9020, 0.5464],\n",
            "        [0.9453, 0.0591]])\n"
          ]
        }
      ],
      "source": [
        "x = torch.ones(3,2)\n",
        "print(x)\n",
        "x = torch.zeros(3,2)\n",
        "print(x)\n",
        "x = torch.rand(3,2)\n",
        "print(x)"
      ]
    },
    {
      "cell_type": "code",
      "source": [
        "x.shape"
      ],
      "metadata": {
        "colab": {
          "base_uri": "https://localhost:8080/"
        },
        "id": "HnT-JWxAotVp",
        "outputId": "0a38810a-5b68-49fb-ac38-357eaa0c6a0a"
      },
      "execution_count": 10,
      "outputs": [
        {
          "output_type": "execute_result",
          "data": {
            "text/plain": [
              "torch.Size([3, 2])"
            ]
          },
          "metadata": {},
          "execution_count": 10
        }
      ]
    },
    {
      "cell_type": "code",
      "execution_count": 4,
      "metadata": {
        "colab": {
          "base_uri": "https://localhost:8080/"
        },
        "id": "-O0TUGPboHgJ",
        "outputId": "ae172645-2652-4a4c-cfd1-e5209fd0438c"
      },
      "outputs": [
        {
          "output_type": "stream",
          "name": "stdout",
          "text": [
            "tensor([[1.1515e-29, 4.5831e-41],\n",
            "        [1.1515e-29, 4.5831e-41],\n",
            "        [0.0000e+00, 0.0000e+00]])\n"
          ]
        },
        {
          "output_type": "execute_result",
          "data": {
            "text/plain": [
              "tensor([[0., 0.],\n",
              "        [0., 0.],\n",
              "        [0., 0.]])"
            ]
          },
          "metadata": {},
          "execution_count": 4
        }
      ],
      "source": [
        "x = torch.empty(3,2) \n",
        "print(x)\n",
        "y = torch.zeros_like(x)\n",
        "y"
      ]
    },
    {
      "cell_type": "code",
      "execution_count": 5,
      "metadata": {
        "colab": {
          "base_uri": "https://localhost:8080/"
        },
        "id": "xFNwoRHaoHgK",
        "outputId": "4a083d94-1d37-484f-90cc-3befcbb832c0"
      },
      "outputs": [
        {
          "output_type": "execute_result",
          "data": {
            "text/plain": [
              "tensor([0.0000, 0.2500, 0.5000, 0.7500, 1.0000])"
            ]
          },
          "metadata": {},
          "execution_count": 5
        }
      ],
      "source": [
        "x = torch.linspace(0,1,steps=5)\n",
        "x"
      ]
    },
    {
      "cell_type": "code",
      "execution_count": 12,
      "metadata": {
        "colab": {
          "base_uri": "https://localhost:8080/"
        },
        "id": "746DWAqLoHgL",
        "outputId": "028fcc4e-65d1-481d-c57b-1c25613e106a"
      },
      "outputs": [
        {
          "output_type": "execute_result",
          "data": {
            "text/plain": [
              "tensor([[1, 2],\n",
              "        [3, 4],\n",
              "        [5, 6]])"
            ]
          },
          "metadata": {},
          "execution_count": 12
        }
      ],
      "source": [
        "py_ndArr = [[1,2],\n",
        "\t\t\t[3,4],\n",
        "\t\t\t[5,6]]\n",
        "x = torch.tensor(py_ndArr)\n",
        "x"
      ]
    },
    {
      "cell_type": "markdown",
      "metadata": {
        "id": "zVtHk1SgoHgM"
      },
      "source": [
        "## Slicing Tensor"
      ]
    },
    {
      "cell_type": "code",
      "execution_count": 15,
      "metadata": {
        "colab": {
          "base_uri": "https://localhost:8080/"
        },
        "id": "AujWXYuBoHgN",
        "outputId": "43dfa51a-7241-4f03-dd08-76d6abd498b1"
      },
      "outputs": [
        {
          "output_type": "stream",
          "name": "stdout",
          "text": [
            "tensor([[1, 2],\n",
            "        [3, 4],\n",
            "        [5, 6]])\n",
            "torch.Size([3, 2])\n",
            "tensor([2, 4, 6])\n",
            "tensor([1, 2])\n"
          ]
        }
      ],
      "source": [
        "print(x)\n",
        "print(x.size())\n",
        "print(x[:,1]) # all row; 1th coloumn\n",
        "print(x[0,:]) # 0th row, all columns"
      ]
    },
    {
      "cell_type": "markdown",
      "metadata": {
        "id": "0GKKXl1eoHgP"
      },
      "source": [
        "## 🚀Reshaping Tensor"
      ]
    },
    {
      "cell_type": "code",
      "execution_count": 19,
      "metadata": {
        "colab": {
          "base_uri": "https://localhost:8080/"
        },
        "id": "DqEkKmAloHgP",
        "outputId": "c4847ae5-899f-4fdb-ac5b-195e7337496f"
      },
      "outputs": [
        {
          "output_type": "stream",
          "name": "stdout",
          "text": [
            "tensor([[1, 2],\n",
            "        [3, 4],\n",
            "        [5, 6]])\n",
            "tensor([[1, 2, 3],\n",
            "        [4, 5, 6]])\n"
          ]
        }
      ],
      "source": [
        "print(x)\n",
        "y = x.view(2,3)\n",
        "print(y)"
      ]
    },
    {
      "cell_type": "code",
      "execution_count": 20,
      "metadata": {
        "colab": {
          "base_uri": "https://localhost:8080/"
        },
        "id": "svrQsXZDoHgQ",
        "outputId": "fa8e6aff-b335-4438-b372-799948a01d29"
      },
      "outputs": [
        {
          "output_type": "stream",
          "name": "stdout",
          "text": [
            "tensor([[1],\n",
            "        [2],\n",
            "        [3],\n",
            "        [4],\n",
            "        [5],\n",
            "        [6]])\n"
          ]
        }
      ],
      "source": [
        "y = x.view(6,-1) # 6 row; auto coloumn\n",
        "print(y)"
      ]
    },
    {
      "cell_type": "markdown",
      "metadata": {
        "id": "aKV3pDxKoHgR"
      },
      "source": [
        "## Tensor Operation"
      ]
    },
    {
      "cell_type": "code",
      "execution_count": null,
      "metadata": {
        "id": "0Fim6h2LoHgR",
        "outputId": "8aaee371-5a2e-41cd-bacd-a06925235f8f"
      },
      "outputs": [
        {
          "name": "stdout",
          "output_type": "stream",
          "text": [
            "tensor([[2., 2.],\n",
            "        [2., 2.],\n",
            "        [2., 2.]])\n",
            "tensor([[0., 0.],\n",
            "        [0., 0.],\n",
            "        [0., 0.]])\n",
            "tensor([[1., 1.],\n",
            "        [1., 1.],\n",
            "        [1., 1.]])\n"
          ]
        }
      ],
      "source": [
        "x = torch.ones([3,2])\n",
        "y = torch.ones([3,2])\n",
        "\n",
        "z = x + y\n",
        "print(z)\n",
        "z = x - y\n",
        "print(z)\n",
        "z = x * y\n",
        "print(z)"
      ]
    },
    {
      "cell_type": "code",
      "execution_count": null,
      "metadata": {
        "id": "J-w55ZGloHgS",
        "outputId": "c7ef1704-1eee-4b48-a234-6823aede3342"
      },
      "outputs": [
        {
          "data": {
            "text/plain": [
              "tensor([[2., 2.],\n",
              "        [2., 2.],\n",
              "        [2., 2.]])"
            ]
          },
          "execution_count": 5,
          "metadata": {},
          "output_type": "execute_result"
        }
      ],
      "source": [
        "z = y.add(x)\n",
        "z"
      ]
    },
    {
      "cell_type": "code",
      "execution_count": null,
      "metadata": {
        "id": "WUfir7QXoHgT",
        "outputId": "d9a9c211-e435-4cae-f9df-68b82d1f1730"
      },
      "outputs": [
        {
          "name": "stdout",
          "output_type": "stream",
          "text": [
            "tensor([[2., 2.],\n",
            "        [2., 2.],\n",
            "        [2., 2.]])\n",
            "tensor([[2., 2.],\n",
            "        [2., 2.],\n",
            "        [2., 2.]])\n"
          ]
        }
      ],
      "source": [
        "# modify inplace\n",
        "z = y.add_(x)\n",
        "print(z)\n",
        "print(y)\n"
      ]
    },
    {
      "cell_type": "markdown",
      "metadata": {
        "id": "1Hssl1OVoHgT"
      },
      "source": [
        "## Numpy/Python `<>` PyTorch"
      ]
    },
    {
      "cell_type": "markdown",
      "source": [
        "- PyTorch To `Numpy`"
      ],
      "metadata": {
        "id": "9NAcNhJNqc2-"
      }
    },
    {
      "cell_type": "code",
      "execution_count": 25,
      "metadata": {
        "colab": {
          "base_uri": "https://localhost:8080/"
        },
        "id": "4CEW9F65oHgT",
        "outputId": "0d08dc28-1df8-47e7-b555-4bc5e42103c7"
      },
      "outputs": [
        {
          "output_type": "execute_result",
          "data": {
            "text/plain": [
              "array([[1, 2],\n",
              "       [3, 4],\n",
              "       [5, 6]])"
            ]
          },
          "metadata": {},
          "execution_count": 25
        }
      ],
      "source": [
        "x.numpy()"
      ]
    },
    {
      "cell_type": "markdown",
      "source": [
        "-  PyTorch To `python`"
      ],
      "metadata": {
        "id": "CfoooS5xqkCv"
      }
    },
    {
      "cell_type": "code",
      "source": [
        "y = x[1,1]\n",
        "print(y)\n",
        "print(y.item())\n",
        "\n",
        "r0 = x[0,:]\n",
        "print(r0)\n",
        "print(r0.tolist())"
      ],
      "metadata": {
        "colab": {
          "base_uri": "https://localhost:8080/"
        },
        "id": "_nX0UqbLqHEU",
        "outputId": "ffa79b1f-e97e-4c4b-9b36-3bf23b6d8bc5"
      },
      "execution_count": 27,
      "outputs": [
        {
          "output_type": "stream",
          "name": "stdout",
          "text": [
            "tensor(4)\n",
            "4\n",
            "tensor([1, 2])\n",
            "[1, 2]\n"
          ]
        }
      ]
    },
    {
      "cell_type": "markdown",
      "source": [
        "- Pytorch to Numpy to Python List"
      ],
      "metadata": {
        "id": "v2plVw7xs1o8"
      }
    },
    {
      "cell_type": "code",
      "source": [
        "# Create a PyTorch tensor\n",
        "tensor = torch.tensor([[1, 2, 3], [4, 5, 6]])\n",
        "# Convert the tensor to a NumPy array\n",
        "numpy_array = tensor.numpy()\n",
        "# Convert the NumPy array to a Python list\n",
        "python_list = numpy_array.tolist()\n",
        "print(python_list) # Output: [[1, 2, 3], [4, 5, 6]]\n"
      ],
      "metadata": {
        "colab": {
          "base_uri": "https://localhost:8080/"
        },
        "id": "cb1sYzTosvxU",
        "outputId": "e58701f0-3189-4516-c0ee-c1774d5b0715"
      },
      "execution_count": 32,
      "outputs": [
        {
          "output_type": "stream",
          "name": "stdout",
          "text": [
            "[[1, 2, 3], [4, 5, 6]]\n"
          ]
        }
      ]
    },
    {
      "cell_type": "markdown",
      "source": [
        "- Numpy to PyTorch"
      ],
      "metadata": {
        "id": "1l5XTw0kq5Vi"
      }
    },
    {
      "cell_type": "code",
      "execution_count": 28,
      "metadata": {
        "colab": {
          "base_uri": "https://localhost:8080/"
        },
        "id": "JrSOiOgVoHgU",
        "outputId": "d8ce8822-5668-433f-e255-74eb0cfb38f3"
      },
      "outputs": [
        {
          "output_type": "stream",
          "name": "stdout",
          "text": [
            "[1.76405235 0.40015721 0.97873798 2.2408932  1.86755799]\n",
            "tensor([1.7641, 0.4002, 0.9787, 2.2409, 1.8676], dtype=torch.float64)\n",
            "<class 'numpy.ndarray'> <class 'torch.Tensor'>\n"
          ]
        }
      ],
      "source": [
        "np.random.seed(0)\n",
        "ar = np.random.randn(5)\n",
        "\n",
        "print(ar)\n",
        "ar_pt = torch.from_numpy(ar)\n",
        "print(ar_pt)\n",
        "print(type(ar),type(ar_pt))"
      ]
    },
    {
      "cell_type": "code",
      "execution_count": 29,
      "metadata": {
        "colab": {
          "base_uri": "https://localhost:8080/"
        },
        "id": "cqTADq2SoHgV",
        "outputId": "22329107-1f38-4c93-b98b-33f6e9cc9cc1"
      },
      "outputs": [
        {
          "output_type": "stream",
          "name": "stdout",
          "text": [
            "[2.76405235 1.40015721 1.97873798 3.2408932  2.86755799]\n",
            "tensor([2.7641, 1.4002, 1.9787, 3.2409, 2.8676], dtype=torch.float64)\n"
          ]
        }
      ],
      "source": [
        "np.add(ar,1,out=ar)\n",
        "print(ar)\n",
        "# torch also gets updated\n",
        "print(ar_pt)"
      ]
    },
    {
      "cell_type": "markdown",
      "source": [
        "- Tensor and Numpy benchmark:"
      ],
      "metadata": {
        "id": "_sZ-wMvjrGXA"
      }
    },
    {
      "cell_type": "code",
      "execution_count": 30,
      "metadata": {
        "colab": {
          "base_uri": "https://localhost:8080/"
        },
        "id": "SKoYCaEUoHgV",
        "outputId": "9a6bb565-ebcc-4355-d8b9-8b35e3994ee3"
      },
      "outputs": [
        {
          "output_type": "stream",
          "name": "stdout",
          "text": [
            "CPU times: user 1min 5s, sys: 5.19 s, total: 1min 10s\n",
            "Wall time: 1min 11s\n"
          ]
        }
      ],
      "source": [
        "%%time\n",
        "for i in range(10):\n",
        "\ta = np.random.randn(10000,10000)\n",
        "\tb = np.random.randn(10000,10000)\n",
        "\tc = a*b"
      ]
    },
    {
      "cell_type": "code",
      "execution_count": 31,
      "metadata": {
        "colab": {
          "base_uri": "https://localhost:8080/"
        },
        "id": "Yh7YHAcQoHgW",
        "outputId": "59f7abf6-5d5c-4d1f-bbd3-15fce0848de2"
      },
      "outputs": [
        {
          "output_type": "stream",
          "name": "stdout",
          "text": [
            "CPU times: user 17.2 s, sys: 7.24 s, total: 24.5 s\n",
            "Wall time: 23.8 s\n"
          ]
        }
      ],
      "source": [
        "\n",
        "%%time\n",
        "for i in range(10):\n",
        "\ta = torch.randn(10000,10000)\n",
        "\tb = torch.randn(10000,10000)\n",
        "\tc = a*b"
      ]
    },
    {
      "cell_type": "markdown",
      "metadata": {
        "id": "xOjytt1VoHgW"
      },
      "source": [
        "## 🔥AutoGrad"
      ]
    },
    {
      "cell_type": "markdown",
      "source": [
        "Autograd is a key feature of PyTorch that provides **automatic differentiation for all operations on tensors**. It allows developers to easily compute gradients of tensors with respect to other tensors. Autograd tracks all operations that are performed on tensors, creates a computation graph, and then uses the chain rule of differentiation to compute gradients. This feature is essential for training deep neural networks, as it allows us to efficiently calculate the gradients needed for optimization algorithms like stochastic gradient descent."
      ],
      "metadata": {
        "id": "UBN2zeyRvV3e"
      }
    },
    {
      "cell_type": "markdown",
      "source": [
        "For the equation of $$z = 2x^{2} + 3y^{3}$$\n",
        "\n",
        "The derivative of z with respect to x is:\n",
        "\n",
        "$$\\frac{\\partial z}{\\partial x} = 4x$$\n",
        "\n",
        "The derivative of z with respect to y is:\n",
        "\n",
        "$$\\frac{\\partial z}{\\partial y} = 9y^{2}$$\n",
        "\n",
        "Therefore, The derivative of $z=2x^2+3y^3$ with respect to $x$ evaluated at $x=2$ is:\n",
        "$$\\frac{\\partial z}{\\partial x}\\bigg|_{x=2} = 4(2) = 8$$\n",
        "\n",
        "And the derivative of $z$ with respect to $y$ evaluated at $y=1$ is:\n",
        "$$\\frac{\\partial z}{\\partial y}\\bigg|_{y=1} = 9(1)^2 = 9$$"
      ],
      "metadata": {
        "id": "VebcYcCntyXM"
      }
    },
    {
      "cell_type": "code",
      "execution_count": 35,
      "metadata": {
        "colab": {
          "base_uri": "https://localhost:8080/"
        },
        "id": "f0EGpJ6goHgX",
        "outputId": "39004e5a-2400-4884-88b4-380f35215abd"
      },
      "outputs": [
        {
          "output_type": "stream",
          "name": "stdout",
          "text": [
            "Gradient of z with respect to x: tensor(8.)\n",
            "Gradient of z with respect to y: tensor(9.)\n"
          ]
        }
      ],
      "source": [
        "import torch\n",
        "\n",
        "# Define x and y as tensors with requires_grad=True\n",
        "x = torch.tensor(2.0, requires_grad=True)\n",
        "y = torch.tensor(1.0, requires_grad=True)\n",
        "\n",
        "# Define z as a function of x and y\n",
        "z = 2*x**2 + 3*y**3\n",
        "\n",
        "# Compute the gradients of z with respect to x and y\n",
        "z.backward()\n",
        "\n",
        "# Print the gradients\n",
        "print('Gradient of z with respect to x:', x.grad)\n",
        "print('Gradient of z with respect to y:', y.grad)\n"
      ]
    },
    {
      "cell_type": "markdown",
      "source": [
        "Building autograd feature from scratch : [building micrograd](https://www.youtube.com/watch?v=VMj-3S1tku0)"
      ],
      "metadata": {
        "id": "8XNSh-G3umHK"
      }
    },
    {
      "cell_type": "code",
      "source": [],
      "metadata": {
        "id": "KBQvuh7SulZi"
      },
      "execution_count": null,
      "outputs": []
    }
  ],
  "metadata": {
    "kernelspec": {
      "display_name": "Python 3.9.7 ('base')",
      "language": "python",
      "name": "python3"
    },
    "language_info": {
      "codemirror_mode": {
        "name": "ipython",
        "version": 3
      },
      "file_extension": ".py",
      "mimetype": "text/x-python",
      "name": "python",
      "nbconvert_exporter": "python",
      "pygments_lexer": "ipython3",
      "version": "3.9.7"
    },
    "orig_nbformat": 2,
    "vscode": {
      "interpreter": {
        "hash": "13a64c48d63ab7fa89dd239a6172cf842d756bd82fcb4ba948a9115b41dc50a1"
      }
    },
    "colab": {
      "provenance": [],
      "include_colab_link": true
    }
  },
  "nbformat": 4,
  "nbformat_minor": 0
}