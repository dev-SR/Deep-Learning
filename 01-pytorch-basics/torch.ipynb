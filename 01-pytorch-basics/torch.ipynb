{
  "cells": [
    {
      "cell_type": "markdown",
      "metadata": {
        "id": "view-in-github",
        "colab_type": "text"
      },
      "source": [
        "<a href=\"https://colab.research.google.com/github/dev-SR/Deep-Learning/blob/main/01-pytorch-basics/torch.ipynb\" target=\"_parent\"><img src=\"https://colab.research.google.com/assets/colab-badge.svg\" alt=\"Open In Colab\"/></a>"
      ]
    },
    {
      "cell_type": "markdown",
      "metadata": {
        "id": "Vwx4SQgmoHf5"
      },
      "source": [
        "# Pytorch"
      ]
    },
    {
      "cell_type": "markdown",
      "source": [
        "**Resources**:\n",
        "\n",
        "- [learnpytorch.io](https://www.learnpytorch.io/)"
      ],
      "metadata": {
        "id": "KO-6bet1B33M"
      }
    },
    {
      "cell_type": "code",
      "execution_count": 1,
      "metadata": {
        "id": "0SlpZXm2oHgE"
      },
      "outputs": [],
      "source": [
        "\"\"\"\n",
        "cd .\\101pytorch\\\n",
        "jupyter nbconvert --to markdown torch.ipynb --output README.md\n",
        "\"\"\"\n",
        "import torch\n",
        "import numpy as np\n",
        "import matplotlib.pyplot as plt"
      ]
    },
    {
      "cell_type": "markdown",
      "metadata": {
        "id": "SnmnrqupoHgG"
      },
      "source": [
        "## Initialize tensors"
      ]
    },
    {
      "cell_type": "code",
      "source": [
        "# Create a range of values 0 to 10\n",
        "zero_to_ten = torch.arange(start=0, end=10, step=1)\n",
        "zero_to_ten"
      ],
      "metadata": {
        "colab": {
          "base_uri": "https://localhost:8080/"
        },
        "id": "U8w1gvGmCzl_",
        "outputId": "43f1ec36-9192-4577-a40e-59b1da688e68"
      },
      "execution_count": 109,
      "outputs": [
        {
          "output_type": "execute_result",
          "data": {
            "text/plain": [
              "tensor([0, 1, 2, 3, 4, 5, 6, 7, 8, 9])"
            ]
          },
          "metadata": {},
          "execution_count": 109
        }
      ]
    },
    {
      "cell_type": "code",
      "execution_count": 7,
      "metadata": {
        "colab": {
          "base_uri": "https://localhost:8080/"
        },
        "id": "a51QMEqsoHgH",
        "outputId": "a3da9cc5-7474-4bb8-e5a2-bd5d359f3831"
      },
      "outputs": [
        {
          "output_type": "stream",
          "name": "stdout",
          "text": [
            "tensor([[1., 1.],\n",
            "        [1., 1.],\n",
            "        [1., 1.]])\n",
            "tensor([[0., 0.],\n",
            "        [0., 0.],\n",
            "        [0., 0.]])\n",
            "tensor([[0.0478, 0.0608],\n",
            "        [0.1022, 0.7141],\n",
            "        [0.3429, 0.3827]])\n"
          ]
        }
      ],
      "source": [
        "x = torch.ones(3,2)\n",
        "print(x)\n",
        "x = torch.zeros(3,2)\n",
        "print(x)\n",
        "x = torch.rand(3,2)\n",
        "print(x)"
      ]
    },
    {
      "cell_type": "code",
      "source": [
        "some_tensor = torch.rand(3, 4)\n",
        "\n",
        "# Find out details about it\n",
        "print(f\"Shape of tensor: {some_tensor.shape}\")\n",
        "print(f\"Datatype of tensor: {some_tensor.dtype}\")\n",
        "print(f\"Device tensor is stored on: {some_tensor.device}\") # will default to CPU"
      ],
      "metadata": {
        "colab": {
          "base_uri": "https://localhost:8080/"
        },
        "id": "HnT-JWxAotVp",
        "outputId": "6b910d85-491c-4cb6-851c-3f4c2e35de10"
      },
      "execution_count": 21,
      "outputs": [
        {
          "output_type": "stream",
          "name": "stdout",
          "text": [
            "Shape of tensor: torch.Size([3, 4])\n",
            "Datatype of tensor: torch.float32\n",
            "Device tensor is stored on: cpu\n"
          ]
        }
      ]
    },
    {
      "cell_type": "code",
      "execution_count": 9,
      "metadata": {
        "colab": {
          "base_uri": "https://localhost:8080/"
        },
        "id": "-O0TUGPboHgJ",
        "outputId": "bbe4d4b6-dfe1-47a8-a34e-f351728e8fda"
      },
      "outputs": [
        {
          "output_type": "stream",
          "name": "stdout",
          "text": [
            "tensor([[1.3110e-31, 4.5790e-41],\n",
            "        [3.7704e-37, 0.0000e+00],\n",
            "        [4.4842e-44, 0.0000e+00]])\n"
          ]
        },
        {
          "output_type": "execute_result",
          "data": {
            "text/plain": [
              "tensor([[0., 0.],\n",
              "        [0., 0.],\n",
              "        [0., 0.]])"
            ]
          },
          "metadata": {},
          "execution_count": 9
        }
      ],
      "source": [
        "x = torch.empty(3,2) \n",
        "print(x)\n",
        "y = torch.zeros_like(x)\n",
        "y"
      ]
    },
    {
      "cell_type": "code",
      "execution_count": 10,
      "metadata": {
        "colab": {
          "base_uri": "https://localhost:8080/"
        },
        "id": "xFNwoRHaoHgK",
        "outputId": "3b2cbf41-ccda-4802-9b64-ed1674f1c968"
      },
      "outputs": [
        {
          "output_type": "execute_result",
          "data": {
            "text/plain": [
              "tensor([0.0000, 0.2500, 0.5000, 0.7500, 1.0000])"
            ]
          },
          "metadata": {},
          "execution_count": 10
        }
      ],
      "source": [
        "x = torch.linspace(0,1,steps=5)\n",
        "x"
      ]
    },
    {
      "cell_type": "code",
      "execution_count": 11,
      "metadata": {
        "colab": {
          "base_uri": "https://localhost:8080/"
        },
        "id": "746DWAqLoHgL",
        "outputId": "c4b3f2ea-b0f1-4a58-f2a3-2147385531de"
      },
      "outputs": [
        {
          "output_type": "execute_result",
          "data": {
            "text/plain": [
              "tensor([[1, 2],\n",
              "        [3, 4],\n",
              "        [5, 6]])"
            ]
          },
          "metadata": {},
          "execution_count": 11
        }
      ],
      "source": [
        "py_ndArr = [[1,2],\n",
        "\t\t\t[3,4],\n",
        "\t\t\t[5,6]]\n",
        "x = torch.tensor(py_ndArr)\n",
        "x"
      ]
    },
    {
      "cell_type": "markdown",
      "metadata": {
        "id": "zVtHk1SgoHgM"
      },
      "source": [
        "## Slicing Tensor"
      ]
    },
    {
      "cell_type": "code",
      "execution_count": 12,
      "metadata": {
        "colab": {
          "base_uri": "https://localhost:8080/"
        },
        "id": "AujWXYuBoHgN",
        "outputId": "b8ec6a7c-0f51-4f63-e24d-6ed87075d148"
      },
      "outputs": [
        {
          "output_type": "stream",
          "name": "stdout",
          "text": [
            "tensor([[1, 2],\n",
            "        [3, 4],\n",
            "        [5, 6]])\n",
            "torch.Size([3, 2])\n",
            "tensor([2, 4, 6])\n",
            "tensor([1, 2])\n"
          ]
        }
      ],
      "source": [
        "print(x)\n",
        "print(x.size())\n",
        "print(x[:,1]) # all row; 1th coloumn\n",
        "print(x[0,:]) # 0th row, all columns"
      ]
    },
    {
      "cell_type": "code",
      "source": [
        "x = torch.arange(1, 10).reshape(1, 3, 3)\n",
        "x, x.shape"
      ],
      "metadata": {
        "colab": {
          "base_uri": "https://localhost:8080/"
        },
        "id": "yq8PlbRzTXA5",
        "outputId": "8a5bff82-20b3-4b4f-da6c-dba24ace1e89"
      },
      "execution_count": 125,
      "outputs": [
        {
          "output_type": "execute_result",
          "data": {
            "text/plain": [
              "(tensor([[[1, 2, 3],\n",
              "          [4, 5, 6],\n",
              "          [7, 8, 9]]]), torch.Size([1, 3, 3]))"
            ]
          },
          "metadata": {},
          "execution_count": 125
        }
      ]
    },
    {
      "cell_type": "code",
      "source": [
        "# Let's index bracket by bracket\n",
        "print(f\"First square bracket:\\n{x[0]}\") \n",
        "print(f\"Second square bracket: {x[0][0]}\") \n",
        "print(f\"Third square bracket: {x[0][0][0]}\")"
      ],
      "metadata": {
        "colab": {
          "base_uri": "https://localhost:8080/"
        },
        "id": "KwsKoc9VTZN1",
        "outputId": "4894e54c-1d71-4c5b-ba87-799d77d4bc85"
      },
      "execution_count": 126,
      "outputs": [
        {
          "output_type": "stream",
          "name": "stdout",
          "text": [
            "First square bracket:\n",
            "tensor([[1, 2, 3],\n",
            "        [4, 5, 6],\n",
            "        [7, 8, 9]])\n",
            "Second square bracket: tensor([1, 2, 3])\n",
            "Third square bracket: 1\n"
          ]
        }
      ]
    },
    {
      "cell_type": "code",
      "source": [
        "# Get all values of 0th dimension and the 0 index of 1st dimension\n",
        "x[:, 0]"
      ],
      "metadata": {
        "colab": {
          "base_uri": "https://localhost:8080/"
        },
        "id": "tMKAH5rITkjg",
        "outputId": "43252db6-aef3-4412-892a-6355a6869602"
      },
      "execution_count": 127,
      "outputs": [
        {
          "output_type": "execute_result",
          "data": {
            "text/plain": [
              "tensor([[1, 2, 3]])"
            ]
          },
          "metadata": {},
          "execution_count": 127
        }
      ]
    },
    {
      "cell_type": "code",
      "source": [
        "# Get all values of 0th & 1st dimensions but only index 1 of 2nd dimension\n",
        "x[:, :, 1]"
      ],
      "metadata": {
        "colab": {
          "base_uri": "https://localhost:8080/"
        },
        "id": "ujwSyZmqTl8U",
        "outputId": "723d96e0-3ed3-4b06-9449-833c993064a1"
      },
      "execution_count": 128,
      "outputs": [
        {
          "output_type": "execute_result",
          "data": {
            "text/plain": [
              "tensor([[2, 5, 8]])"
            ]
          },
          "metadata": {},
          "execution_count": 128
        }
      ]
    },
    {
      "cell_type": "code",
      "source": [
        "# Get all values of the 0 dimension but only the 1 index value of the 1st and 2nd dimension\n",
        "x[:, 1, 1]"
      ],
      "metadata": {
        "colab": {
          "base_uri": "https://localhost:8080/"
        },
        "id": "wodmIP0uTsUx",
        "outputId": "be53abdb-2abd-40e6-ac6c-028bac789fb3"
      },
      "execution_count": 129,
      "outputs": [
        {
          "output_type": "execute_result",
          "data": {
            "text/plain": [
              "tensor([5])"
            ]
          },
          "metadata": {},
          "execution_count": 129
        }
      ]
    },
    {
      "cell_type": "code",
      "source": [
        "# Get index 0 of 0th and 1st dimension and all values of 2nd dimension \n",
        "x[0, 0, :] # same as x[0][0]"
      ],
      "metadata": {
        "colab": {
          "base_uri": "https://localhost:8080/"
        },
        "id": "jx4D53c4TvJ-",
        "outputId": "dd9fd44c-398f-439a-8adf-3c0e8e1d9488"
      },
      "execution_count": 130,
      "outputs": [
        {
          "output_type": "execute_result",
          "data": {
            "text/plain": [
              "tensor([1, 2, 3])"
            ]
          },
          "metadata": {},
          "execution_count": 130
        }
      ]
    },
    {
      "cell_type": "markdown",
      "metadata": {
        "id": "0GKKXl1eoHgP"
      },
      "source": [
        "## 🚀Reshaping Tensor"
      ]
    },
    {
      "cell_type": "code",
      "execution_count": 13,
      "metadata": {
        "colab": {
          "base_uri": "https://localhost:8080/"
        },
        "id": "DqEkKmAloHgP",
        "outputId": "b796c069-180f-4c9d-9e10-db05376ae9b6"
      },
      "outputs": [
        {
          "output_type": "stream",
          "name": "stdout",
          "text": [
            "tensor([[1, 2],\n",
            "        [3, 4],\n",
            "        [5, 6]])\n",
            "tensor([[1, 2, 3],\n",
            "        [4, 5, 6]])\n"
          ]
        }
      ],
      "source": [
        "print(x)\n",
        "y = x.view(2,3)\n",
        "print(y)"
      ]
    },
    {
      "cell_type": "code",
      "execution_count": 14,
      "metadata": {
        "colab": {
          "base_uri": "https://localhost:8080/"
        },
        "id": "svrQsXZDoHgQ",
        "outputId": "7f6a8dcc-bc73-42a6-e15b-5d1191d6f2a8"
      },
      "outputs": [
        {
          "output_type": "stream",
          "name": "stdout",
          "text": [
            "tensor([[1],\n",
            "        [2],\n",
            "        [3],\n",
            "        [4],\n",
            "        [5],\n",
            "        [6]])\n"
          ]
        }
      ],
      "source": [
        "y = x.view(6,-1) # 6 row; auto coloumn\n",
        "print(y)"
      ]
    },
    {
      "cell_type": "markdown",
      "metadata": {
        "id": "aKV3pDxKoHgR"
      },
      "source": [
        "## Tensor Operation"
      ]
    },
    {
      "cell_type": "markdown",
      "source": [
        "### Basic Operations"
      ],
      "metadata": {
        "id": "B0I5JT3GCWrb"
      }
    },
    {
      "cell_type": "code",
      "execution_count": 15,
      "metadata": {
        "id": "0Fim6h2LoHgR",
        "outputId": "863b9e9b-2c61-4cd8-dd00-b2762c0e8a8c",
        "colab": {
          "base_uri": "https://localhost:8080/"
        }
      },
      "outputs": [
        {
          "output_type": "stream",
          "name": "stdout",
          "text": [
            "tensor([[2., 2.],\n",
            "        [2., 2.],\n",
            "        [2., 2.]])\n",
            "tensor([[0., 0.],\n",
            "        [0., 0.],\n",
            "        [0., 0.]])\n",
            "tensor([[1., 1.],\n",
            "        [1., 1.],\n",
            "        [1., 1.]])\n"
          ]
        }
      ],
      "source": [
        "x = torch.ones([3,2])\n",
        "y = torch.ones([3,2])\n",
        "\n",
        "z = x + y\n",
        "print(z)\n",
        "z = x - y\n",
        "print(z)\n",
        "z = x * y#Element-wise multiplication\n",
        "print(z)"
      ]
    },
    {
      "cell_type": "code",
      "execution_count": 16,
      "metadata": {
        "id": "J-w55ZGloHgS",
        "outputId": "2e098ef1-239e-47cc-fb90-2c44c7e8a2a6",
        "colab": {
          "base_uri": "https://localhost:8080/"
        }
      },
      "outputs": [
        {
          "output_type": "execute_result",
          "data": {
            "text/plain": [
              "tensor([[2., 2.],\n",
              "        [2., 2.],\n",
              "        [2., 2.]])"
            ]
          },
          "metadata": {},
          "execution_count": 16
        }
      ],
      "source": [
        "z = y.add(x)\n",
        "z"
      ]
    },
    {
      "cell_type": "code",
      "execution_count": 17,
      "metadata": {
        "id": "WUfir7QXoHgT",
        "outputId": "078fee99-e35b-481a-a64e-566a2955a047",
        "colab": {
          "base_uri": "https://localhost:8080/"
        }
      },
      "outputs": [
        {
          "output_type": "stream",
          "name": "stdout",
          "text": [
            "tensor([[2., 2.],\n",
            "        [2., 2.],\n",
            "        [2., 2.]])\n",
            "tensor([[2., 2.],\n",
            "        [2., 2.],\n",
            "        [2., 2.]])\n"
          ]
        }
      ],
      "source": [
        "# modify inplace\n",
        "z = y.add_(x)\n",
        "print(z)\n",
        "print(y)\n"
      ]
    },
    {
      "cell_type": "markdown",
      "source": [
        "### 🚀Matrix multiplication (is all you need)\n"
      ],
      "metadata": {
        "id": "h8MplsxGDaQ_"
      }
    },
    {
      "cell_type": "markdown",
      "source": [
        "One of the most common operations in machine learning and deep learning algorithms (like neural networks) is matrix multiplication.\n",
        "\n",
        "But to multiply a matrix by another matrix we need to do the **`\"dot product\"` of rows and columns** ... \n",
        "\n",
        "<p align=\"center\">\n",
        "<img src=\"https://raw.githubusercontent.com/dev-SR/Deep-Learning/main/01-pytorch-basics/img/nn.png\" width=\"800px\"/>\n",
        "</p>\n",
        "\n",
        "Note: A matrix multiplication like this is also referred to as the dot product of two matrices.\n",
        "\n",
        "Neural networks are full of matrix multiplications and dot products."
      ],
      "metadata": {
        "id": "8kR8qKx4DtJa"
      }
    },
    {
      "cell_type": "markdown",
      "source": [
        "PyTorch implements matrix multiplication functionality in the `torch.matmul()`,`torch.mm()` method or `@` operator.\n",
        "\n",
        "The main two rules for matrix multiplication to remember are:\n",
        "\n",
        "The inner dimensions must match:\n",
        "- `(3, 2) @ (3, 2)` won't work\n",
        "- `(2, 3) @ (3, 2)` will work\n",
        "- `(3, 2) @ (2, 3)` will work\n",
        "\n",
        "The resulting matrix has the shape of the outer dimensions:\n",
        "- `(2, 3) @ (3, 2) -> (2, 2)`\n",
        "- `(3, 2) @ (2, 3) -> (3, 3)`"
      ],
      "metadata": {
        "id": "1RNzzNs1NZyF"
      }
    },
    {
      "cell_type": "code",
      "source": [
        "X = torch.rand(100,4) # 100 sample of 4 features each\n",
        "X.shape"
      ],
      "metadata": {
        "colab": {
          "base_uri": "https://localhost:8080/"
        },
        "id": "xpWdUaKxIeVP",
        "outputId": "10bb2e95-e5b5-4b7e-8a56-a94917c865cc"
      },
      "execution_count": 92,
      "outputs": [
        {
          "output_type": "execute_result",
          "data": {
            "text/plain": [
              "torch.Size([100, 4])"
            ]
          },
          "metadata": {},
          "execution_count": 92
        }
      ]
    },
    {
      "cell_type": "code",
      "source": [
        "W = torch.rand(3,4) # 3 hidden unit connected to 4 input\n",
        "W.T.shape"
      ],
      "metadata": {
        "colab": {
          "base_uri": "https://localhost:8080/"
        },
        "id": "EvxMpsubJHN2",
        "outputId": "d1dc88be-2170-41f9-cde9-a21fb4415fbe"
      },
      "execution_count": 93,
      "outputs": [
        {
          "output_type": "execute_result",
          "data": {
            "text/plain": [
              "torch.Size([4, 3])"
            ]
          },
          "metadata": {},
          "execution_count": 93
        }
      ]
    },
    {
      "cell_type": "code",
      "source": [
        "a = X.matmul(W.T)\n",
        "a.shape"
      ],
      "metadata": {
        "colab": {
          "base_uri": "https://localhost:8080/"
        },
        "id": "g64aYH4eDbiN",
        "outputId": "cdecb13d-53b6-47e8-9223-e5bdf279fd57"
      },
      "execution_count": 94,
      "outputs": [
        {
          "output_type": "execute_result",
          "data": {
            "text/plain": [
              "torch.Size([100, 3])"
            ]
          },
          "metadata": {},
          "execution_count": 94
        }
      ]
    },
    {
      "cell_type": "markdown",
      "source": [
        "The `torch.nn.Linear()` module (we'll see this in action later on), also known as a feed-forward layer or fully connected layer, implements a matrix multiplication between an input x and a weights matrix A.\n",
        "\n"
      ],
      "metadata": {
        "id": "Ks02Y8WIPXC1"
      }
    },
    {
      "cell_type": "code",
      "source": [
        "X = torch.rand(2,4) # 2 sample of 4 features each\n",
        "torch.manual_seed(42)\n",
        "# This uses matrix multiplication\n",
        "linear = torch.nn.Linear(in_features=4, # in_features = matches inner dimension of input \n",
        "                         out_features=6) # 6 hidden unit connected to 4 input\n",
        "output = linear(X)\n",
        "print(f\"Input shape: {X.shape}\\n\")\n",
        "print(f\"Output:\\n{output}\\n\\nOutput shape: {output.shape}\")"
      ],
      "metadata": {
        "colab": {
          "base_uri": "https://localhost:8080/"
        },
        "id": "oPR-wanWOf2C",
        "outputId": "f744e2f2-c12b-49ca-cabd-b64192d07269"
      },
      "execution_count": 101,
      "outputs": [
        {
          "output_type": "stream",
          "name": "stdout",
          "text": [
            "Input shape: torch.Size([2, 4])\n",
            "\n",
            "Output:\n",
            "tensor([[ 0.1644, -0.3716,  0.6903,  0.2284,  0.2870, -0.7039],\n",
            "        [ 0.4176, -0.0611,  0.0467, -0.0456,  0.2174, -0.4366]],\n",
            "       grad_fn=<AddmmBackward0>)\n",
            "\n",
            "Output shape: torch.Size([2, 6])\n"
          ]
        }
      ]
    },
    {
      "cell_type": "markdown",
      "metadata": {
        "id": "1Hssl1OVoHgT"
      },
      "source": [
        "## Numpy/Python `<>` PyTorch"
      ]
    },
    {
      "cell_type": "markdown",
      "source": [
        "- PyTorch To `Numpy`"
      ],
      "metadata": {
        "id": "9NAcNhJNqc2-"
      }
    },
    {
      "cell_type": "code",
      "execution_count": 131,
      "metadata": {
        "colab": {
          "base_uri": "https://localhost:8080/"
        },
        "id": "4CEW9F65oHgT",
        "outputId": "a955cdfa-d6aa-4d92-f00d-1202fc841407"
      },
      "outputs": [
        {
          "output_type": "execute_result",
          "data": {
            "text/plain": [
              "(tensor([1., 1., 1., 1., 1., 1., 1.]),\n",
              " array([1., 1., 1., 1., 1., 1., 1.], dtype=float32))"
            ]
          },
          "metadata": {},
          "execution_count": 131
        }
      ],
      "source": [
        "# Tensor to NumPy array\n",
        "tensor = torch.ones(7) # create a tensor of ones with dtype=float32\n",
        "numpy_tensor = tensor.numpy() # will be dtype=float32 unless changed\n",
        "tensor, numpy_tensor"
      ]
    },
    {
      "cell_type": "markdown",
      "source": [
        "-  PyTorch To `python`"
      ],
      "metadata": {
        "id": "CfoooS5xqkCv"
      }
    },
    {
      "cell_type": "code",
      "source": [
        "y = x[1,1]\n",
        "print(y)\n",
        "print(y.item())\n",
        "\n",
        "r0 = x[0,:]\n",
        "print(r0)\n",
        "print(r0.tolist())"
      ],
      "metadata": {
        "colab": {
          "base_uri": "https://localhost:8080/"
        },
        "id": "_nX0UqbLqHEU",
        "outputId": "ffa79b1f-e97e-4c4b-9b36-3bf23b6d8bc5"
      },
      "execution_count": null,
      "outputs": [
        {
          "output_type": "stream",
          "name": "stdout",
          "text": [
            "tensor(4)\n",
            "4\n",
            "tensor([1, 2])\n",
            "[1, 2]\n"
          ]
        }
      ]
    },
    {
      "cell_type": "markdown",
      "source": [
        "- Pytorch to Numpy to Python List"
      ],
      "metadata": {
        "id": "v2plVw7xs1o8"
      }
    },
    {
      "cell_type": "code",
      "source": [
        "# Create a PyTorch tensor\n",
        "tensor = torch.tensor([[1, 2, 3], [4, 5, 6]])\n",
        "# Convert the tensor to a NumPy array\n",
        "numpy_array = tensor.numpy()\n",
        "# Convert the NumPy array to a Python list\n",
        "python_list = numpy_array.tolist()\n",
        "print(python_list) # Output: [[1, 2, 3], [4, 5, 6]]\n"
      ],
      "metadata": {
        "colab": {
          "base_uri": "https://localhost:8080/"
        },
        "id": "cb1sYzTosvxU",
        "outputId": "e58701f0-3189-4516-c0ee-c1774d5b0715"
      },
      "execution_count": null,
      "outputs": [
        {
          "output_type": "stream",
          "name": "stdout",
          "text": [
            "[[1, 2, 3], [4, 5, 6]]\n"
          ]
        }
      ]
    },
    {
      "cell_type": "markdown",
      "source": [
        "- Numpy to PyTorch"
      ],
      "metadata": {
        "id": "1l5XTw0kq5Vi"
      }
    },
    {
      "cell_type": "code",
      "execution_count": null,
      "metadata": {
        "colab": {
          "base_uri": "https://localhost:8080/"
        },
        "id": "JrSOiOgVoHgU",
        "outputId": "d8ce8822-5668-433f-e255-74eb0cfb38f3"
      },
      "outputs": [
        {
          "output_type": "stream",
          "name": "stdout",
          "text": [
            "[1.76405235 0.40015721 0.97873798 2.2408932  1.86755799]\n",
            "tensor([1.7641, 0.4002, 0.9787, 2.2409, 1.8676], dtype=torch.float64)\n",
            "<class 'numpy.ndarray'> <class 'torch.Tensor'>\n"
          ]
        }
      ],
      "source": [
        "np.random.seed(0)\n",
        "ar = np.random.randn(5)\n",
        "\n",
        "print(ar)\n",
        "ar_pt = torch.from_numpy(ar)\n",
        "print(ar_pt)\n",
        "print(type(ar),type(ar_pt))"
      ]
    },
    {
      "cell_type": "code",
      "execution_count": null,
      "metadata": {
        "colab": {
          "base_uri": "https://localhost:8080/"
        },
        "id": "cqTADq2SoHgV",
        "outputId": "22329107-1f38-4c93-b98b-33f6e9cc9cc1"
      },
      "outputs": [
        {
          "output_type": "stream",
          "name": "stdout",
          "text": [
            "[2.76405235 1.40015721 1.97873798 3.2408932  2.86755799]\n",
            "tensor([2.7641, 1.4002, 1.9787, 3.2409, 2.8676], dtype=torch.float64)\n"
          ]
        }
      ],
      "source": [
        "np.add(ar,1,out=ar)\n",
        "print(ar)\n",
        "# torch also gets updated\n",
        "print(ar_pt)"
      ]
    },
    {
      "cell_type": "markdown",
      "source": [
        "- Tensor and Numpy benchmark:"
      ],
      "metadata": {
        "id": "_sZ-wMvjrGXA"
      }
    },
    {
      "cell_type": "code",
      "execution_count": null,
      "metadata": {
        "colab": {
          "base_uri": "https://localhost:8080/"
        },
        "id": "SKoYCaEUoHgV",
        "outputId": "9a6bb565-ebcc-4355-d8b9-8b35e3994ee3"
      },
      "outputs": [
        {
          "output_type": "stream",
          "name": "stdout",
          "text": [
            "CPU times: user 1min 5s, sys: 5.19 s, total: 1min 10s\n",
            "Wall time: 1min 11s\n"
          ]
        }
      ],
      "source": [
        "%%time\n",
        "for i in range(10):\n",
        "\ta = np.random.randn(10000,10000)\n",
        "\tb = np.random.randn(10000,10000)\n",
        "\tc = a*b"
      ]
    },
    {
      "cell_type": "code",
      "execution_count": null,
      "metadata": {
        "colab": {
          "base_uri": "https://localhost:8080/"
        },
        "id": "Yh7YHAcQoHgW",
        "outputId": "59f7abf6-5d5c-4d1f-bbd3-15fce0848de2"
      },
      "outputs": [
        {
          "output_type": "stream",
          "name": "stdout",
          "text": [
            "CPU times: user 17.2 s, sys: 7.24 s, total: 24.5 s\n",
            "Wall time: 23.8 s\n"
          ]
        }
      ],
      "source": [
        "\n",
        "%%time\n",
        "for i in range(10):\n",
        "\ta = torch.randn(10000,10000)\n",
        "\tb = torch.randn(10000,10000)\n",
        "\tc = a*b"
      ]
    },
    {
      "cell_type": "markdown",
      "source": [
        "## Reshaping, stacking, squeezing and unsqueezing\n"
      ],
      "metadata": {
        "id": "F01kutY8Qs-w"
      }
    },
    {
      "cell_type": "markdown",
      "source": [
        "Often times you'll want to reshape or change the dimensions of your tensors without actually changing the values inside them."
      ],
      "metadata": {
        "id": "RuXVubXXQ0eT"
      }
    },
    {
      "cell_type": "markdown",
      "source": [
        "- removing all single dimensions from a tensor"
      ],
      "metadata": {
        "id": "5fofExUzRXpW"
      }
    },
    {
      "cell_type": "code",
      "source": [
        "x = torch.tensor([1, 2, 3, 4])\n",
        "print(x)\n",
        "print(x.unsqueeze(dim=0))\n",
        "print(x.unsqueeze(dim=1))"
      ],
      "metadata": {
        "colab": {
          "base_uri": "https://localhost:8080/"
        },
        "id": "IZ2f6IAKQu2T",
        "outputId": "cad0fa44-7729-430f-8ef4-58d5454d0427"
      },
      "execution_count": 122,
      "outputs": [
        {
          "output_type": "stream",
          "name": "stdout",
          "text": [
            "tensor([1, 2, 3, 4])\n",
            "tensor([[1, 2, 3, 4]])\n",
            "tensor([[1],\n",
            "        [2],\n",
            "        [3],\n",
            "        [4]])\n"
          ]
        }
      ]
    },
    {
      "cell_type": "markdown",
      "source": [
        "You can also rearrange the order of axes values with torch.permute(input, dims), where the input gets turned into a view with new dims.\n",
        "\n"
      ],
      "metadata": {
        "id": "MfUhC44YTBJw"
      }
    },
    {
      "cell_type": "code",
      "source": [
        "# Create tensor with specific shape\n",
        "img_numpy = torch.rand(size=(224, 224, 3))\n",
        "\n",
        "# Permute the original tensor to rearrange the axis order\n",
        "img_torch_format = img_numpy.permute(2, 0, 1) # shifts axis 0->1, 1->2, 2->0\n",
        "\n",
        "print(f\"Previous shape: {img_numpy.shape}\")\n",
        "print(f\"New shape: {img_torch_format.shape}\")"
      ],
      "metadata": {
        "colab": {
          "base_uri": "https://localhost:8080/"
        },
        "id": "OBgdTXLXTAMg",
        "outputId": "f9f16e60-0eb4-4cdb-ded4-ef6bf42d8cb2"
      },
      "execution_count": 124,
      "outputs": [
        {
          "output_type": "stream",
          "name": "stdout",
          "text": [
            "Previous shape: torch.Size([224, 224, 3])\n",
            "New shape: torch.Size([3, 224, 224])\n"
          ]
        }
      ]
    },
    {
      "cell_type": "markdown",
      "source": [
        "## Finding the min, max, mean, sum, etc (aggregation)¶\n"
      ],
      "metadata": {
        "id": "XKmi-iKDP3tz"
      }
    },
    {
      "cell_type": "code",
      "source": [
        "# Create a tensor\n",
        "x = torch.arange(0, 100, 10)\n",
        "print(f\"Minimum: {x.min()}\")\n",
        "print(f\"Maximum: {x.max()}\")\n",
        "# print(f\"Mean: {x.mean()}\") # this will error\n",
        "print(f\"Mean: {x.type(torch.float32).mean()}\") # won't work without float datatype\n",
        "print(f\"Sum: {x.sum()}\")"
      ],
      "metadata": {
        "id": "KBQvuh7SulZi",
        "colab": {
          "base_uri": "https://localhost:8080/"
        },
        "outputId": "b6cf49cc-9f2e-4eca-c5ac-c1c50ec684d5"
      },
      "execution_count": 105,
      "outputs": [
        {
          "output_type": "stream",
          "name": "stdout",
          "text": [
            "Minimum: 0\n",
            "Maximum: 90\n",
            "Mean: 45.0\n",
            "Sum: 450\n"
          ]
        }
      ]
    },
    {
      "cell_type": "markdown",
      "source": [
        "You can also do the same as above with torch methods.\n",
        "\n"
      ],
      "metadata": {
        "id": "F0CmA6EAQBie"
      }
    },
    {
      "cell_type": "code",
      "source": [
        "torch.max(x), torch.min(x), torch.mean(x.type(torch.float32)), torch.sum(x)"
      ],
      "metadata": {
        "colab": {
          "base_uri": "https://localhost:8080/"
        },
        "id": "R8dL8NFGQCih",
        "outputId": "7a1de8f0-c743-4733-b2bc-b274b69f543e"
      },
      "execution_count": 103,
      "outputs": [
        {
          "output_type": "execute_result",
          "data": {
            "text/plain": [
              "(tensor(90), tensor(0), tensor(45.), tensor(450))"
            ]
          },
          "metadata": {},
          "execution_count": 103
        }
      ]
    },
    {
      "cell_type": "markdown",
      "source": [
        "### Positional min/max\n"
      ],
      "metadata": {
        "id": "eyoEO-lTQLZP"
      }
    },
    {
      "cell_type": "markdown",
      "source": [
        "This is helpful incase you just want the **position where the highest (or lowest) value is** and *not the actual value itself* (we'll see this in a later when using the softmax activation function).\n",
        "\n"
      ],
      "metadata": {
        "id": "CiNqLF6rQRyi"
      }
    },
    {
      "cell_type": "code",
      "source": [
        "# Create a tensor\n",
        "tensor = torch.arange(10, 100, 10)\n",
        "print(f\"Tensor: {tensor}\")\n",
        "\n",
        "# Returns index of max and min values\n",
        "print(f\"Index where max value occurs: {tensor.argmax()}\")\n",
        "print(f\"Index where min value occurs: {tensor.argmin()}\")"
      ],
      "metadata": {
        "colab": {
          "base_uri": "https://localhost:8080/"
        },
        "id": "06Vt_AsBQMzk",
        "outputId": "48f28104-c597-4e5d-b914-49bf12b2443d"
      },
      "execution_count": 106,
      "outputs": [
        {
          "output_type": "stream",
          "name": "stdout",
          "text": [
            "Tensor: tensor([10, 20, 30, 40, 50, 60, 70, 80, 90])\n",
            "Index where max value occurs: 8\n",
            "Index where min value occurs: 0\n"
          ]
        }
      ]
    },
    {
      "cell_type": "markdown",
      "metadata": {
        "id": "xOjytt1VoHgW"
      },
      "source": [
        "## 🔥AutoGrad"
      ]
    },
    {
      "cell_type": "markdown",
      "source": [
        "Autograd is a key feature of PyTorch that provides **automatic differentiation for all operations on tensors**. It allows developers to easily compute gradients of tensors with respect to other tensors. Autograd tracks all operations that are performed on tensors, creates a computation graph, and then uses the chain rule of differentiation to compute gradients. This feature is essential for training deep neural networks, as it allows us to efficiently calculate the gradients needed for optimization algorithms like stochastic gradient descent."
      ],
      "metadata": {
        "id": "UBN2zeyRvV3e"
      }
    },
    {
      "cell_type": "markdown",
      "source": [
        "For the equation of $$z = 2x^{2} + 3y^{3}$$\n",
        "\n",
        "The derivative of z with respect to x is:\n",
        "\n",
        "$$\\frac{\\partial z}{\\partial x} = 4x$$\n",
        "\n",
        "The derivative of z with respect to y is:\n",
        "\n",
        "$$\\frac{\\partial z}{\\partial y} = 9y^{2}$$\n",
        "\n",
        "Therefore, The derivative of $z=2x^2+3y^3$ with respect to $x$ evaluated at $x=2$ is:\n",
        "$$\\frac{\\partial z}{\\partial x}\\bigg|_{x=2} = 4(2) = 8$$\n",
        "\n",
        "And the derivative of $z$ with respect to $y$ evaluated at $y=1$ is:\n",
        "$$\\frac{\\partial z}{\\partial y}\\bigg|_{y=1} = 9(1)^2 = 9$$"
      ],
      "metadata": {
        "id": "VebcYcCntyXM"
      }
    },
    {
      "cell_type": "code",
      "execution_count": null,
      "metadata": {
        "colab": {
          "base_uri": "https://localhost:8080/"
        },
        "id": "f0EGpJ6goHgX",
        "outputId": "39004e5a-2400-4884-88b4-380f35215abd"
      },
      "outputs": [
        {
          "output_type": "stream",
          "name": "stdout",
          "text": [
            "Gradient of z with respect to x: tensor(8.)\n",
            "Gradient of z with respect to y: tensor(9.)\n"
          ]
        }
      ],
      "source": [
        "# Define x and y as tensors with requires_grad=True\n",
        "x = torch.tensor(2.0, requires_grad=True)\n",
        "y = torch.tensor(1.0, requires_grad=True)\n",
        "\n",
        "# Define z as a function of x and y\n",
        "z = 2*x**2 + 3*y**3\n",
        "\n",
        "# Compute the gradients of z with respect to x and y\n",
        "z.backward()\n",
        "\n",
        "# Print the gradients\n",
        "print('Gradient of z with respect to x:', x.grad)\n",
        "print('Gradient of z with respect to y:', y.grad)\n"
      ]
    },
    {
      "cell_type": "markdown",
      "source": [
        "Building autograd feature from scratch : [building micrograd](https://www.youtube.com/watch?v=VMj-3S1tku0)"
      ],
      "metadata": {
        "id": "8XNSh-G3umHK"
      }
    },
    {
      "cell_type": "markdown",
      "source": [
        "## 🔥Running tensors on GPUs"
      ],
      "metadata": {
        "id": "IRhEgdERUJTP"
      }
    },
    {
      "cell_type": "code",
      "source": [
        "!nvidia-smi"
      ],
      "metadata": {
        "colab": {
          "base_uri": "https://localhost:8080/"
        },
        "id": "ENF29p13ULZg",
        "outputId": "5d98fb55-7f35-43c2-9e87-cd94675ce63f"
      },
      "execution_count": 2,
      "outputs": [
        {
          "output_type": "stream",
          "name": "stdout",
          "text": [
            "Sun Feb 26 20:02:33 2023       \n",
            "+-----------------------------------------------------------------------------+\n",
            "| NVIDIA-SMI 525.85.12    Driver Version: 525.85.12    CUDA Version: 12.0     |\n",
            "|-------------------------------+----------------------+----------------------+\n",
            "| GPU  Name        Persistence-M| Bus-Id        Disp.A | Volatile Uncorr. ECC |\n",
            "| Fan  Temp  Perf  Pwr:Usage/Cap|         Memory-Usage | GPU-Util  Compute M. |\n",
            "|                               |                      |               MIG M. |\n",
            "|===============================+======================+======================|\n",
            "|   0  Tesla T4            Off  | 00000000:00:04.0 Off |                    0 |\n",
            "| N/A   61C    P0    31W /  70W |      0MiB / 15360MiB |      0%      Default |\n",
            "|                               |                      |                  N/A |\n",
            "+-------------------------------+----------------------+----------------------+\n",
            "                                                                               \n",
            "+-----------------------------------------------------------------------------+\n",
            "| Processes:                                                                  |\n",
            "|  GPU   GI   CI        PID   Type   Process name                  GPU Memory |\n",
            "|        ID   ID                                                   Usage      |\n",
            "|=============================================================================|\n",
            "|  No running processes found                                                 |\n",
            "+-----------------------------------------------------------------------------+\n"
          ]
        }
      ]
    },
    {
      "cell_type": "code",
      "source": [
        "# Check for GPU\n",
        "import torch\n",
        "torch.cuda.is_available()"
      ],
      "metadata": {
        "colab": {
          "base_uri": "https://localhost:8080/"
        },
        "id": "PW9LWXVEUezN",
        "outputId": "f65bf651-ceb7-46f5-b765-347620811f25"
      },
      "execution_count": 3,
      "outputs": [
        {
          "output_type": "execute_result",
          "data": {
            "text/plain": [
              "True"
            ]
          },
          "metadata": {},
          "execution_count": 3
        }
      ]
    },
    {
      "cell_type": "code",
      "source": [
        "# Count number of devices\n",
        "torch.cuda.device_count()"
      ],
      "metadata": {
        "colab": {
          "base_uri": "https://localhost:8080/"
        },
        "id": "q75VshwgUp3G",
        "outputId": "3774d34d-f3ae-4545-e165-39d1a442e151"
      },
      "execution_count": 6,
      "outputs": [
        {
          "output_type": "execute_result",
          "data": {
            "text/plain": [
              "1"
            ]
          },
          "metadata": {},
          "execution_count": 6
        }
      ]
    },
    {
      "cell_type": "code",
      "source": [
        "# Set device type\n",
        "device = \"cuda\" if torch.cuda.is_available() else \"cpu\"\n",
        "device"
      ],
      "metadata": {
        "colab": {
          "base_uri": "https://localhost:8080/",
          "height": 36
        },
        "id": "P_u3Yh4pUj_e",
        "outputId": "51e625dc-d526-47e0-b205-d4b3055a88e8"
      },
      "execution_count": 4,
      "outputs": [
        {
          "output_type": "execute_result",
          "data": {
            "text/plain": [
              "'cuda'"
            ],
            "application/vnd.google.colaboratory.intrinsic+json": {
              "type": "string"
            }
          },
          "metadata": {},
          "execution_count": 4
        }
      ]
    },
    {
      "cell_type": "markdown",
      "source": [
        "- Let's try creating a tensor and putting it on the GPU (if it's available).\n",
        "\n"
      ],
      "metadata": {
        "id": "C4qp6dQVUyqG"
      }
    },
    {
      "cell_type": "code",
      "source": [
        "# Create tensor (default on CPU)\n",
        "tensor = torch.tensor([1, 2, 3])\n",
        "\n",
        "# Tensor not on GPU\n",
        "print(tensor, tensor.device)\n",
        "\n",
        "# Move tensor to GPU (if available)\n",
        "tensor_on_gpu = tensor.to(device)\n",
        "tensor_on_gpu"
      ],
      "metadata": {
        "colab": {
          "base_uri": "https://localhost:8080/"
        },
        "id": "ZrMxppw0Uoe0",
        "outputId": "463b8a25-5a79-43e4-8e76-3cde37a5d2bc"
      },
      "execution_count": 9,
      "outputs": [
        {
          "output_type": "stream",
          "name": "stdout",
          "text": [
            "tensor([1, 2, 3]) cpu\n"
          ]
        },
        {
          "output_type": "execute_result",
          "data": {
            "text/plain": [
              "tensor([1, 2, 3], device='cuda:0')"
            ]
          },
          "metadata": {},
          "execution_count": 9
        }
      ]
    },
    {
      "cell_type": "markdown",
      "source": [
        "- Moving tensors back to the CPU\n"
      ],
      "metadata": {
        "id": "dOi-DLNCU-YA"
      }
    },
    {
      "cell_type": "code",
      "source": [
        "# If tensor is on GPU, can't transform it to NumPy (this will error)\n",
        "tensor_on_gpu.numpy()"
      ],
      "metadata": {
        "colab": {
          "base_uri": "https://localhost:8080/",
          "height": 182
        },
        "id": "AnDUJoMjVDdf",
        "outputId": "9ff5096b-72b4-4585-f8c4-eaf186622a72"
      },
      "execution_count": 10,
      "outputs": [
        {
          "output_type": "error",
          "ename": "TypeError",
          "evalue": "ignored",
          "traceback": [
            "\u001b[0;31m---------------------------------------------------------------------------\u001b[0m",
            "\u001b[0;31mTypeError\u001b[0m                                 Traceback (most recent call last)",
            "\u001b[0;32m<ipython-input-10-53175578f49e>\u001b[0m in \u001b[0;36m<module>\u001b[0;34m\u001b[0m\n\u001b[1;32m      1\u001b[0m \u001b[0;31m# If tensor is on GPU, can't transform it to NumPy (this will error)\u001b[0m\u001b[0;34m\u001b[0m\u001b[0;34m\u001b[0m\u001b[0;34m\u001b[0m\u001b[0m\n\u001b[0;32m----> 2\u001b[0;31m \u001b[0mtensor_on_gpu\u001b[0m\u001b[0;34m.\u001b[0m\u001b[0mnumpy\u001b[0m\u001b[0;34m(\u001b[0m\u001b[0;34m)\u001b[0m\u001b[0;34m\u001b[0m\u001b[0;34m\u001b[0m\u001b[0m\n\u001b[0m",
            "\u001b[0;31mTypeError\u001b[0m: can't convert cuda:0 device type tensor to numpy. Use Tensor.cpu() to copy the tensor to host memory first."
          ]
        }
      ]
    },
    {
      "cell_type": "code",
      "source": [
        "# Instead, copy the tensor back to cpu\n",
        "tensor_back_on_cpu = tensor_on_gpu.cpu().numpy()\n",
        "tensor_back_on_cpu # The above returns a copy of the GPU tensor in CPU memory so the original tensor is still on GPU.\n",
        "\n"
      ],
      "metadata": {
        "colab": {
          "base_uri": "https://localhost:8080/"
        },
        "id": "i_IO3ttVVPj5",
        "outputId": "3201c872-d3bd-4200-c964-5f0dd874fabc"
      },
      "execution_count": 11,
      "outputs": [
        {
          "output_type": "execute_result",
          "data": {
            "text/plain": [
              "array([1, 2, 3])"
            ]
          },
          "metadata": {},
          "execution_count": 11
        }
      ]
    },
    {
      "cell_type": "code",
      "source": [
        "# The above returns a copy of the GPU tensor in CPU memory so the original tensor is still on GPU.\n",
        "tensor_on_gpu"
      ],
      "metadata": {
        "colab": {
          "base_uri": "https://localhost:8080/"
        },
        "id": "VxycSBigVZ9-",
        "outputId": "bd5065ed-9986-4582-e4f6-60f607b9e1dc"
      },
      "execution_count": 12,
      "outputs": [
        {
          "output_type": "execute_result",
          "data": {
            "text/plain": [
              "tensor([1, 2, 3], device='cuda:0')"
            ]
          },
          "metadata": {},
          "execution_count": 12
        }
      ]
    }
  ],
  "metadata": {
    "kernelspec": {
      "display_name": "Python 3.9.7 ('base')",
      "language": "python",
      "name": "python3"
    },
    "language_info": {
      "codemirror_mode": {
        "name": "ipython",
        "version": 3
      },
      "file_extension": ".py",
      "mimetype": "text/x-python",
      "name": "python",
      "nbconvert_exporter": "python",
      "pygments_lexer": "ipython3",
      "version": "3.9.7"
    },
    "orig_nbformat": 2,
    "vscode": {
      "interpreter": {
        "hash": "13a64c48d63ab7fa89dd239a6172cf842d756bd82fcb4ba948a9115b41dc50a1"
      }
    },
    "colab": {
      "provenance": [],
      "collapsed_sections": [
        "SnmnrqupoHgG",
        "F01kutY8Qs-w",
        "XKmi-iKDP3tz"
      ],
      "toc_visible": true,
      "include_colab_link": true
    },
    "accelerator": "GPU",
    "gpuClass": "standard"
  },
  "nbformat": 4,
  "nbformat_minor": 0
}